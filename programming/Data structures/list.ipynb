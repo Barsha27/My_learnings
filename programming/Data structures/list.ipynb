{
 "cells": [
  {
   "cell_type": "markdown",
   "metadata": {},
   "source": [
    "### Lists\n"
   ]
  },
  {
   "cell_type": "code",
   "execution_count": 19,
   "metadata": {},
   "outputs": [
    {
     "name": "stdout",
     "output_type": "stream",
     "text": [
      "[1, 'ramu', 24, 1.24]\n"
     ]
    }
   ],
   "source": [
    "### List creation\n",
    "\n",
    "newlst = []\n",
    "\n",
    "lst = ['one', 'two', 'three', 'four']\n",
    "lst2 = [1, 2, 3, 4]\n",
    "lst3 = [[1,2],[3,4],[5,6]]\n",
    "lst4 = [1, 'ramu', 24, 1.24]\n",
    "\n",
    "print(lst4)"
   ]
  },
  {
   "cell_type": "code",
   "execution_count": 20,
   "metadata": {},
   "outputs": [
    {
     "name": "stdout",
     "output_type": "stream",
     "text": [
      "4\n"
     ]
    }
   ],
   "source": [
    "### list length\n",
    "\n",
    "lst = [1,2,3,4]\n",
    "\n",
    "print(len(lst))"
   ]
  },
  {
   "cell_type": "code",
   "execution_count": 21,
   "metadata": {},
   "outputs": [
    {
     "name": "stdout",
     "output_type": "stream",
     "text": [
      "[1, 2, 3, 4, 8]\n"
     ]
    }
   ],
   "source": [
    "### List Append\n",
    "\n",
    "lst = [1, 2, 3, 4]\n",
    "lst.append(8)\n",
    "\n",
    "print(lst)"
   ]
  },
  {
   "cell_type": "code",
   "execution_count": 22,
   "metadata": {},
   "outputs": [
    {
     "name": "stdout",
     "output_type": "stream",
     "text": [
      "[1, 2, 'three', 3, 4]\n"
     ]
    }
   ],
   "source": [
    "### List insert\n",
    "\n",
    "lst = [1, 2, 3, 4]\n",
    "lst.insert(2, 'three')\n",
    "\n",
    "print(lst)"
   ]
  },
  {
   "cell_type": "code",
   "execution_count": 23,
   "metadata": {},
   "outputs": [
    {
     "name": "stdout",
     "output_type": "stream",
     "text": [
      "[1, 3, 4]\n"
     ]
    }
   ],
   "source": [
    "### List remove\n",
    "\n",
    "lst = [1, 2, 3, 4]\n",
    "lst.remove(2)\n",
    "print(lst)"
   ]
  },
  {
   "cell_type": "code",
   "execution_count": 24,
   "metadata": {},
   "outputs": [
    {
     "name": "stdout",
     "output_type": "stream",
     "text": [
      "[1, 2, 3, 4, ['a', 'b']]\n"
     ]
    }
   ],
   "source": [
    "### List append and extend\n",
    "\n",
    "lst = [1, 2, 3, 4]\n",
    "\n",
    "lst1 = ['a', 'b']\n",
    "\n",
    "lst.append(lst1)\n",
    "\n",
    "print(lst)"
   ]
  },
  {
   "cell_type": "code",
   "execution_count": 26,
   "metadata": {},
   "outputs": [
    {
     "name": "stdout",
     "output_type": "stream",
     "text": [
      "[1, 2, 3, 4, 'a', 'b']\n"
     ]
    }
   ],
   "source": [
    "\n",
    "lst = [1, 2, 3, 4]\n",
    "\n",
    "lst1 = ['a', 'b']\n",
    "\n",
    "lst.extend(lst1)\n",
    "print(lst)"
   ]
  },
  {
   "cell_type": "code",
   "execution_count": 28,
   "metadata": {},
   "outputs": [
    {
     "name": "stdout",
     "output_type": "stream",
     "text": [
      "[1, 3, 4]\n",
      "3\n",
      "[1, 4]\n"
     ]
    }
   ],
   "source": [
    "### List delete - deletion based on index position\n",
    "\n",
    "lst = [1, 2, 3, 4]\n",
    "del lst[1]\n",
    "\n",
    "print(lst)\n",
    "\n",
    "a = lst.pop(1)\n",
    "print(a)\n",
    "print(lst)"
   ]
  },
  {
   "cell_type": "code",
   "execution_count": 29,
   "metadata": {},
   "outputs": [
    {
     "name": "stdout",
     "output_type": "stream",
     "text": [
      "['one', 'three', 'four']\n"
     ]
    }
   ],
   "source": [
    "lst = ['one','two','three','four']\n",
    "\n",
    "lst.remove('two')\n",
    "print(lst)"
   ]
  },
  {
   "cell_type": "code",
   "execution_count": 30,
   "metadata": {},
   "outputs": [
    {
     "name": "stdout",
     "output_type": "stream",
     "text": [
      "Hi\n",
      "Bye\n"
     ]
    }
   ],
   "source": [
    "### List related keywords\n",
    "\n",
    "lst = ['one', 'two', 'three', 'four']\n",
    "\n",
    "if 'one' in lst:\n",
    "    print('Hi')\n",
    "\n",
    "\n",
    "if 'five' not in lst:\n",
    "    print('Bye')"
   ]
  },
  {
   "cell_type": "code",
   "execution_count": 32,
   "metadata": {},
   "outputs": [
    {
     "name": "stdout",
     "output_type": "stream",
     "text": [
      "[4, 3, 2, 1]\n"
     ]
    }
   ],
   "source": [
    "### List reverse\n",
    "\n",
    "lst = [1, 2, 3, 4]\n",
    "lst.reverse()\n",
    "\n",
    "print(lst)"
   ]
  },
  {
   "cell_type": "code",
   "execution_count": 33,
   "metadata": {},
   "outputs": [
    {
     "name": "stdout",
     "output_type": "stream",
     "text": [
      "[3, 1, 6, 2, 8]\n",
      "[1, 2, 3, 6, 8]\n"
     ]
    }
   ],
   "source": [
    "### List sorting\n",
    "\n",
    "lst = [3,1,6,2,8]\n",
    "\n",
    "sorted_lst = sorted(lst)\n",
    "\n",
    "print(lst)\n",
    "print(sorted_lst) #sorts the lst but doesnot change the original list\n",
    "\n"
   ]
  },
  {
   "cell_type": "code",
   "execution_count": 34,
   "metadata": {},
   "outputs": [
    {
     "name": "stdout",
     "output_type": "stream",
     "text": [
      "[8, 6, 3, 2, 1]\n"
     ]
    }
   ],
   "source": [
    "# printing the list in reverse order\n",
    "\n",
    "reverse_order = sorted(lst, reverse = True)\n",
    "\n",
    "print(reverse_order)"
   ]
  },
  {
   "cell_type": "code",
   "execution_count": 36,
   "metadata": {},
   "outputs": [
    {
     "name": "stdout",
     "output_type": "stream",
     "text": [
      "[1, 4.2, 5, 5, 20]\n"
     ]
    }
   ],
   "source": [
    "lst = [1, 20, 5, 5, 4.2]\n",
    "\n",
    "lst.sort() # sort the list and store it in itself\n",
    "print(lst)"
   ]
  },
  {
   "cell_type": "code",
   "execution_count": 37,
   "metadata": {},
   "outputs": [
    {
     "name": "stdout",
     "output_type": "stream",
     "text": [
      "[1, 2, 3, 4, 6]\n"
     ]
    }
   ],
   "source": [
    "### list having multiple references\n",
    "\n",
    "lst = [1, 2, 3, 4]\n",
    "\n",
    "abc = lst\n",
    "\n",
    "abc.append(6)\n",
    "\n",
    "print(lst)"
   ]
  },
  {
   "cell_type": "code",
   "execution_count": 38,
   "metadata": {},
   "outputs": [
    {
     "name": "stdout",
     "output_type": "stream",
     "text": [
      "['one', 'two', 'three', 'four', 'five']\n"
     ]
    }
   ],
   "source": [
    "### String split to create a list\n",
    "\n",
    "s = \"one,two,three,four,five\"\n",
    "\n",
    "lst = s.split(',')\n",
    "\n",
    "print(lst)"
   ]
  },
  {
   "cell_type": "code",
   "execution_count": 39,
   "metadata": {},
   "outputs": [
    {
     "name": "stdout",
     "output_type": "stream",
     "text": [
      "2\n",
      "4\n"
     ]
    }
   ],
   "source": [
    "### List indexing\n",
    "\n",
    "lst = [1, 2, 3, 4]\n",
    "print(lst[1])\n",
    "print(lst[-1])"
   ]
  },
  {
   "cell_type": "code",
   "execution_count": 40,
   "metadata": {},
   "outputs": [
    {
     "name": "stdout",
     "output_type": "stream",
     "text": [
      "[20, 30, 40, 50, 60, 70]\n",
      "[10, 20, 30, 40, 50]\n"
     ]
    }
   ],
   "source": [
    "### list slicing\n",
    "\n",
    "nos = [10, 20, 30, 40 , 50, 60, 70]\n",
    "\n",
    "print(nos[1:])\n",
    "print(nos[0:5])"
   ]
  },
  {
   "cell_type": "code",
   "execution_count": 42,
   "metadata": {},
   "outputs": [
    {
     "name": "stdout",
     "output_type": "stream",
     "text": [
      "[10, 30, 50, 70]\n",
      "[30, 50, 70]\n"
     ]
    }
   ],
   "source": [
    "print(nos[::2])\n",
    "\n",
    "print(nos[2::2])"
   ]
  },
  {
   "cell_type": "code",
   "execution_count": 44,
   "metadata": {},
   "outputs": [
    {
     "name": "stdout",
     "output_type": "stream",
     "text": [
      "[1, 2, 3, 4, 'abc', 'bcd']\n"
     ]
    }
   ],
   "source": [
    "### List extend using \"+\"\n",
    "\n",
    "lst1 = [1, 2, 3, 4]\n",
    "lst2 = [\"abc\", \"bcd\"]\n",
    "\n",
    "lst = lst1 + lst2\n",
    "print(lst)"
   ]
  },
  {
   "cell_type": "code",
   "execution_count": 45,
   "metadata": {},
   "outputs": [
    {
     "data": {
      "text/plain": [
       "4"
      ]
     },
     "execution_count": 45,
     "metadata": {},
     "output_type": "execute_result"
    }
   ],
   "source": [
    "### List count\n",
    "\n",
    "numbers = [1,2,3,4,1,1,1,5,6]\n",
    "\n",
    "numbers.count(1)\n"
   ]
  },
  {
   "cell_type": "code",
   "execution_count": 46,
   "metadata": {},
   "outputs": [
    {
     "name": "stdout",
     "output_type": "stream",
     "text": [
      "one\n",
      "two\n",
      "three\n",
      "four\n"
     ]
    }
   ],
   "source": [
    "### List Looping\n",
    "\n",
    "lst = ['one','two','three','four']\n",
    "\n",
    "for e in lst:\n",
    "    print(e)"
   ]
  },
  {
   "cell_type": "code",
   "execution_count": 47,
   "metadata": {},
   "outputs": [
    {
     "name": "stdout",
     "output_type": "stream",
     "text": [
      "[0, 1, 4, 9, 16, 25, 36, 49, 64, 81]\n"
     ]
    }
   ],
   "source": [
    "### List comprehensions\n",
    "\n",
    "square = [i ** 2 for i in range(10)]\n",
    "\n",
    "print(square)"
   ]
  },
  {
   "cell_type": "code",
   "execution_count": 51,
   "metadata": {},
   "outputs": [
    {
     "name": "stdout",
     "output_type": "stream",
     "text": [
      "[-20, -40, 20, 40, 100]\n",
      "[10, 20, 50]\n",
      "[(0, 0), (1, 1), (2, 4), (3, 9), (4, 16), (5, 25), (6, 36), (7, 49), (8, 64), (9, 81)]\n"
     ]
    }
   ],
   "source": [
    "# Example\n",
    "\n",
    "lst = [-10, -20, 10, 20, 50]\n",
    "\n",
    "# create a new list with values doubled\n",
    "\n",
    "new_lst = [i * 2 for i in lst]\n",
    "print(new_lst)\n",
    "\n",
    "# filter the list for excluding negative nos\n",
    "new_lst = [i for i in lst if i >= 0]\n",
    "print(new_lst)\n",
    "\n",
    "#create a list of tuples like (number, square_of_number)\n",
    "new_lst = [(i, i**2) for i in range(10)]\n",
    "print(new_lst)\n"
   ]
  },
  {
   "cell_type": "code",
   "execution_count": 52,
   "metadata": {},
   "outputs": [
    {
     "name": "stdout",
     "output_type": "stream",
     "text": [
      "[[1, 5, 9], [2, 6, 10], [3, 7, 11], [4, 8, 12]]\n"
     ]
    }
   ],
   "source": [
    "### Nested list comprehensions\n",
    "\n",
    "matrix = [\n",
    "    [1, 2, 3, 4],\n",
    "    [5, 6, 7, 8],\n",
    "    [9, 10, 11, 12]\n",
    "]\n",
    "\n",
    "#transpose of a matrix without list comprehension\n",
    "\n",
    "transposed = []\n",
    "for i in range(4):\n",
    "    lst = []\n",
    "    for row in matrix:\n",
    "        lst.append(row[i])\n",
    "    transposed.append(lst)\n",
    "\n",
    "print(transposed)\n"
   ]
  },
  {
   "cell_type": "code",
   "execution_count": 53,
   "metadata": {},
   "outputs": [
    {
     "name": "stdout",
     "output_type": "stream",
     "text": [
      "[[1, 5, 9], [2, 6, 10], [3, 7, 11], [4, 8, 12]]\n"
     ]
    }
   ],
   "source": [
    "# with list comprehension\n",
    "\n",
    "transposed = [[row[i] for row in matrix] for i in range(4)]\n",
    "print(transposed)"
   ]
  },
  {
   "cell_type": "code",
   "execution_count": null,
   "metadata": {},
   "outputs": [],
   "source": []
  }
 ],
 "metadata": {
  "interpreter": {
   "hash": "be347649cb6fff5265335bebf1f649030c925b125fd8d97a93c9494ebfc0996a"
  },
  "kernelspec": {
   "display_name": "Python 3.10.0 64-bit ('minimal_ds': conda)",
   "language": "python",
   "name": "python3"
  },
  "language_info": {
   "codemirror_mode": {
    "name": "ipython",
    "version": 3
   },
   "file_extension": ".py",
   "mimetype": "text/x-python",
   "name": "python",
   "nbconvert_exporter": "python",
   "pygments_lexer": "ipython3",
   "version": "3.10.0"
  },
  "orig_nbformat": 4
 },
 "nbformat": 4,
 "nbformat_minor": 2
}
